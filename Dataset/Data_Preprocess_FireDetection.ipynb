{
  "nbformat": 4,
  "nbformat_minor": 0,
  "metadata": {
    "colab": {
      "provenance": []
    },
    "kernelspec": {
      "name": "python3",
      "display_name": "Python 3"
    },
    "language_info": {
      "name": "python"
    }
  },
  "cells": [
    {
      "cell_type": "markdown",
      "source": [
        "# Data Preprocessing for Early Fire Detection"
      ],
      "metadata": {
        "id": "pRvnddMrp_cN"
      }
    },
    {
      "cell_type": "code",
      "execution_count": null,
      "metadata": {
        "colab": {
          "base_uri": "https://localhost:8080/"
        },
        "id": "koUmmU4S_GJ3",
        "outputId": "e5ca57fa-7ee1-4a5b-c9b1-6d61fd84453a"
      },
      "outputs": [
        {
          "output_type": "stream",
          "name": "stdout",
          "text": [
            "Drive already mounted at /content/drive; to attempt to forcibly remount, call drive.mount(\"/content/drive\", force_remount=True).\n"
          ]
        }
      ],
      "source": [
        "from google.colab import drive\n",
        "drive.mount('/content/drive')"
      ]
    },
    {
      "cell_type": "code",
      "source": [
        "import os\n",
        "path_dir = '/content/drive/MyDrive/Dataset/labels/'\n",
        "\n",
        "\n",
        "# get all file names in the directory\n",
        "for dir, subdirs, files in os.walk(path_dir):\n",
        "  for f in files:\n",
        "    if f == \".DS_Store\":\n",
        "      file_name = os.path.join(path_dir,f)\n",
        "      print(file_name)\n",
        "      os.remove(file_name)"
      ],
      "metadata": {
        "id": "Ptzv7gcsDXLh"
      },
      "execution_count": null,
      "outputs": []
    },
    {
      "cell_type": "code",
      "source": [
        "#filter out the txt files that have fire (1)\n",
        "import os\n",
        "import shutil\n",
        "\n",
        "path_dir = '/content/drive/MyDrive/Dataset/labels/'\n",
        "output_path = '/content/drive/MyDrive/Dataset/labels1/'\n",
        "\n",
        "count = 0\n",
        "count2 = 0\n",
        "name_list = []\n",
        "# get all file names in the directory\n",
        "for dir, subdirs, files in os.walk(path_dir):\n",
        "  for f in files:\n",
        "    count = count + 1 \n",
        "    file_name = os.path.join(path_dir,f)\n",
        "    #print(file_name)\n",
        "    with open(file_name, \"r\") as file:\n",
        "      lines = file.readlines()\n",
        "      #print(lines)\n",
        "      for line in lines:\n",
        "        if line[0] == \"1\":\n",
        "          #print(\"Found 1 at the beginning of the line: \" + line)\n",
        "          name_list.append(file_name)\n",
        "          print(name_list)\n",
        "      if file_name in name_list:\n",
        "         txt_path = os.path.join(path_dir, file_name)\n",
        "         #print(txt_path)\n",
        "         count2 = count2 +1\n",
        "         shutil.move(txt_path, output_path)\n",
        "print(count)\n",
        "print(count2)"
      ],
      "metadata": {
        "colab": {
          "base_uri": "https://localhost:8080/"
        },
        "id": "IaDvEeY8AVin",
        "outputId": "d1e2b0a7-c560-45a7-ef2f-2b2d5d3acd47"
      },
      "execution_count": null,
      "outputs": [
        {
          "output_type": "stream",
          "name": "stdout",
          "text": [
            "11992\n",
            "0\n"
          ]
        }
      ]
    },
    {
      "cell_type": "code",
      "source": [
        "#filter out the imaegs  files that have fire (1)\n",
        "import os\n",
        "import shutil\n",
        "\n",
        "output_path = '/content/drive/MyDrive/Dataset/labels1/'\n",
        "path_dir_image = '/content/drive/MyDrive/Dataset/images/'\n",
        "output_path_image = '/content/drive/MyDrive/Dataset/images1/'\n",
        "\n",
        "count3= 0\n",
        "\n",
        "# Get a list of all files in txt folder1 and image folder\n",
        "files1 = os.listdir(output_path)\n",
        "files2 = os.listdir(path_dir_image)\n",
        "\n",
        "# Iterate over each file in files1\n",
        "for file1 in files1:\n",
        "  new_file1 = file1.replace(\"txt\",\"jpg\")\n",
        "  if new_file1 in files2:\n",
        "    image_path = os.path.join(path_dir_image, new_file1)\n",
        "    print(image_path)\n",
        "    count3 = count3 +1\n",
        "    shutil.move(image_path, output_path_image)\n",
        "\n",
        "print(count3)"
      ],
      "metadata": {
        "colab": {
          "base_uri": "https://localhost:8080/"
        },
        "id": "KTIkXQyeO_nw",
        "outputId": "11b5be14-e19e-4a8d-cba6-4668039ef81b"
      },
      "execution_count": null,
      "outputs": [
        {
          "output_type": "stream",
          "name": "stdout",
          "text": [
            "0\n"
          ]
        }
      ]
    },
    {
      "cell_type": "code",
      "source": [
        "import os\n",
        "count4 =0 \n",
        "# Set the paths to the two folders\n",
        "folder1 = '/content/drive/MyDrive/Dataset/labels1/'\n",
        "folder2 = '/content/drive/MyDrive/Dataset/images1/'\n",
        "\n",
        "# Get a list of all files in folder1 and folder2\n",
        "files1 = os.listdir(folder1)\n",
        "files2 = os.listdir(folder2)\n",
        "\n",
        "# Iterate over each file in files1\n",
        "for file1 in files1:\n",
        "    # Check if the file also exists in files2\n",
        "    new_file1 = file1.replace(\"txt\",\"jpg\")\n",
        "    if new_file1 not in files2:\n",
        "        # If the file does not exist in folder2, delete it from folder1\n",
        "        print(new_file1)\n",
        "        os.remove(os.path.join(folder1, file1))\n",
        "        count4 = count4 +1 \n",
        "print(count4)\n",
        "\n"
      ],
      "metadata": {
        "colab": {
          "base_uri": "https://localhost:8080/"
        },
        "id": "ufwgr_XFUHSa",
        "outputId": "c23c9fd5-3193-4582-93b9-239ea19e2831"
      },
      "execution_count": null,
      "outputs": [
        {
          "output_type": "stream",
          "name": "stdout",
          "text": [
            "0\n"
          ]
        }
      ]
    },
    {
      "cell_type": "code",
      "source": [
        "import os\n",
        "count5 =0\n",
        "count6 =0  \n",
        "# Set the paths to the two folders\n",
        "folder1 = '/content/drive/MyDrive/Dataset/labels1/'\n",
        "folder2 = '/content/drive/MyDrive/Dataset/images1/'\n",
        "\n",
        "# Get a list of all files in folder1 and folder2\n",
        "files1 = os.listdir(folder1)\n",
        "files2 = os.listdir(folder2)\n",
        "\n",
        "# Iterate over each file in files1\n",
        "for file1 in files1:\n",
        "  count5= count5+1\n",
        "print(count5)\n",
        "\n",
        "for file2 in files2:\n",
        "  count6= count6+1\n",
        "print(count6)\n"
      ],
      "metadata": {
        "colab": {
          "base_uri": "https://localhost:8080/"
        },
        "id": "x3NiTss4Ur5j",
        "outputId": "893e37df-d914-4c3a-f9a8-96f3b321f52a"
      },
      "execution_count": null,
      "outputs": [
        {
          "output_type": "stream",
          "name": "stdout",
          "text": [
            "0\n",
            "0\n"
          ]
        }
      ]
    },
    {
      "cell_type": "code",
      "source": [
        "import os\n",
        "count0 =0 \n",
        "# Set the paths to the two folders\n",
        "folder1 = '/content/drive/MyDrive/Dataset/cloud_labels/'\n",
        "folder2 = '/content/drive/MyDrive/Dataset/cloud_images/'\n",
        "\n",
        "# Get a list of all files in folder1 and folder2\n",
        "files1 = os.listdir(folder1)\n",
        "files2 = os.listdir(folder2)\n",
        "\n",
        "# Iterate over each file in files1\n",
        "for file1 in files1:\n",
        "    # Check if the file also exists in files2\n",
        "    new_file1 = file1.replace(\"txt\",\"jpg\")\n",
        "    if new_file1 not in files2:\n",
        "        # If the file does not exist in folder2, delete it from folder1\n",
        "        print(new_file1)\n",
        "        os.remove(os.path.join(folder1, file1))\n",
        "        count0 = count0 +1 \n",
        "print(count0)"
      ],
      "metadata": {
        "colab": {
          "base_uri": "https://localhost:8080/"
        },
        "id": "yJb8cY0P4bni",
        "outputId": "27fff342-5c8b-4f44-d34a-2ee50022a4b3"
      },
      "execution_count": null,
      "outputs": [
        {
          "output_type": "stream",
          "name": "stdout",
          "text": [
            "0\n"
          ]
        }
      ]
    }
  ]
}