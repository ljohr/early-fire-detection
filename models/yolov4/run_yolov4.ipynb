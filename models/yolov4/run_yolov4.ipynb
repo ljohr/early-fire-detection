{
  "cells": [
    {
      "cell_type": "markdown",
      "metadata": {
        "id": "gE3azXoR_pWi"
      },
      "source": [
        "# **Mount Google Drive**"
      ]
    },
    {
      "cell_type": "code",
      "execution_count": null,
      "metadata": {
        "id": "TXWjargsDm_y"
      },
      "outputs": [],
      "source": [
        "from google.colab import drive\n",
        "drive.mount(\"/content/gdrive\", force_remount=True)"
      ]
    },
    {
      "cell_type": "code",
      "execution_count": null,
      "metadata": {
        "id": "pbaAC6T9DsWT"
      },
      "outputs": [],
      "source": [
        "%cd gdrive/MyDrive/yolo-fire-detection/"
      ]
    },
    {
      "cell_type": "code",
      "execution_count": null,
      "metadata": {
        "id": "68eMertgIxaB"
      },
      "outputs": [],
      "source": [
        "# clone darknet repo\n",
        "# !git clone https://github.com/AlexeyAB/darknet"
      ]
    },
    {
      "cell_type": "code",
      "source": [
        "%cd darknet"
      ],
      "metadata": {
        "id": "qPFIBzJS6Klx"
      },
      "execution_count": null,
      "outputs": []
    },
    {
      "cell_type": "code",
      "source": [
        "%ls"
      ],
      "metadata": {
        "id": "LBZKeYQefhfA"
      },
      "execution_count": null,
      "outputs": []
    },
    {
      "cell_type": "code",
      "execution_count": null,
      "metadata": {
        "id": "xym8_m8CIyXK"
      },
      "outputs": [],
      "source": [
        "# change makefile to have GPU and OPENCV enabled\n",
        "!sed -i 's/OPENCV=0/OPENCV=1/' Makefile\n",
        "!sed -i 's/GPU=0/GPU=1/' Makefile\n",
        "!sed -i 's/CUDNN=0/CUDNN=1/' Makefile\n",
        "!sed -i 's/CUDNN_HALF=0/CUDNN_HALF=1/' Makefile"
      ]
    },
    {
      "cell_type": "code",
      "execution_count": null,
      "metadata": {
        "id": "5uloUwmUKF05"
      },
      "outputs": [],
      "source": [
        "# verify CUDA\n",
        "!/usr/local/cuda/bin/nvcc --version"
      ]
    },
    {
      "cell_type": "code",
      "execution_count": null,
      "metadata": {
        "id": "q2Jjv0yRKLPe"
      },
      "outputs": [],
      "source": [
        "# make darknet (builds darknet so that you can then use the darknet executable file to run or train object detectors)\n",
        "!make"
      ]
    },
    {
      "cell_type": "markdown",
      "metadata": {
        "id": "ikgv38AdKldo"
      },
      "source": [
        "# **Get Pre-trained Weights**"
      ]
    },
    {
      "cell_type": "code",
      "execution_count": null,
      "metadata": {
        "id": "vVtgyY_ELoSf"
      },
      "outputs": [],
      "source": [
        "!wget https://github.com/AlexeyAB/darknet/releases/download/darknet_yolo_v3_optimal/yolov4.conv.137"
      ]
    },
    {
      "cell_type": "markdown",
      "metadata": {
        "id": "xhh-N0GF8GC4"
      },
      "source": [
        "# **Train Model**"
      ]
    },
    {
      "cell_type": "code",
      "execution_count": null,
      "metadata": {
        "id": "Fn3wzgCA8mv8"
      },
      "outputs": [],
      "source": [
        "!./darknet detector train cfg/coco.data cfg/yolov4-custom.cfg yolov4.conv.137 -dont_show -mjpeg_port 8090 -map"
      ]
    },
    {
      "cell_type": "markdown",
      "source": [
        "# **Show Results**"
      ],
      "metadata": {
        "id": "cHhK9q7xb3v_"
      }
    },
    {
      "cell_type": "code",
      "source": [
        "imShow('chart.png')"
      ],
      "metadata": {
        "id": "f1F7E780-eLc"
      },
      "execution_count": null,
      "outputs": []
    },
    {
      "cell_type": "code",
      "source": [
        "!./darknet detector map cfg/coco.data cfg/yolov4-custom.cfg backup/yolov4-custom_final.weights -points 0"
      ],
      "metadata": {
        "id": "4ovXuzLMzhBb"
      },
      "execution_count": null,
      "outputs": []
    },
    {
      "cell_type": "markdown",
      "source": [
        "# **Validation**"
      ],
      "metadata": {
        "id": "3sOUPkDWbyIQ"
      }
    },
    {
      "cell_type": "code",
      "source": [
        "# need to set our custom cfg to test mode \n",
        "%cd cfg\n",
        "!sed -i 's/batch=64/batch=1/' yolov4-custom.cfg\n",
        "!sed -i 's/subdivisions=16/subdivisions=1/' yolov4-custom.cfg\n",
        "%cd .."
      ],
      "metadata": {
        "id": "uVEckpnU-sU7"
      },
      "execution_count": null,
      "outputs": []
    },
    {
      "cell_type": "code",
      "execution_count": null,
      "metadata": {
        "id": "YLKxikH6CN22"
      },
      "outputs": [],
      "source": [
        "!./darknet detector valid cfg/coco.data cfg/yolov4-custom.cfg backup/yolov4-custom_final.weights -iou_thresh 0.5"
      ]
    },
    {
      "cell_type": "code",
      "source": [
        "!./darknet detector map cfg/coco.data cfg/yolov4-custom.cfg backup/yolov4-custom_final.weights -iou_thresh 0.5"
      ],
      "metadata": {
        "id": "9rOTunohNV1v"
      },
      "execution_count": null,
      "outputs": []
    },
    {
      "cell_type": "markdown",
      "source": [
        "# **Testing**"
      ],
      "metadata": {
        "id": "bW8RtC4XcCz-"
      }
    },
    {
      "cell_type": "code",
      "source": [
        "!./darknet detector test cfg/coco.data cfg/yolov4-custom.cfg backup/yolov4-custom_final.weights -iou_thresh 0.5 -dont_show -ext_output < data/test.txt > result.txt "
      ],
      "metadata": {
        "id": "8NUMo8jKra61"
      },
      "execution_count": null,
      "outputs": []
    },
    {
      "cell_type": "code",
      "source": [
        "imShow('predictions.jpg')"
      ],
      "metadata": {
        "id": "GAAtm5CJ-xO7"
      },
      "execution_count": null,
      "outputs": []
    }
  ],
  "metadata": {
    "accelerator": "GPU",
    "colab": {
      "provenance": [],
      "machine_shape": "hm",
      "gpuType": "A100"
    },
    "gpuClass": "standard",
    "kernelspec": {
      "display_name": "Python 3",
      "name": "python3"
    }
  },
  "nbformat": 4,
  "nbformat_minor": 0
}